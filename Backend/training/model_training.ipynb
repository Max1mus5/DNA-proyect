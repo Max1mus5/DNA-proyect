{
 "cells": [
  {
   "cell_type": "code",
   "execution_count": 1,
   "id": "83aac18d-b2cf-42dd-8c8a-35a2656ec9f7",
   "metadata": {},
   "outputs": [],
   "source": [
    "#importar librerias\n",
    "import numpy as np\n",
    "import pandas as pd\n",
    "import matplotlib.pyplot as plt\n",
    "import seaborn as sns\n",
    "from sklearn.model_selection import train_test_split\n",
    "from sklearn.preprocessing import StandardScaler\n",
    "from tensorflow.keras.models import Sequential\n",
    "from tensorflow.keras.layers import Dense\n",
    "from tensorflow.keras.models import load_model\n"
   ]
  },
  {
   "cell_type": "code",
   "execution_count": 3,
   "id": "9779fd15-27cc-4f73-a422-4b17a8d55b52",
   "metadata": {},
   "outputs": [
    {
     "name": "stdout",
     "output_type": "stream",
     "text": [
      "  rsid,\"chromosome\",\"position\",\"genotype\"\n",
      "0                rs4477212,\"1\",72017,\"AA\"\n",
      "1               rs3094315,\"1\",742429,\"AA\"\n",
      "2               rs3131972,\"1\",742584,\"GG\"\n",
      "3              rs12124819,\"1\",766409,\"AA\"\n",
      "4              rs11240777,\"1\",788822,\"AG\"\n",
      "<class 'pandas.core.frame.DataFrame'>\n",
      "RangeIndex: 966977 entries, 0 to 966976\n",
      "Data columns (total 1 columns):\n",
      " #   Column                                   Non-Null Count   Dtype \n",
      "---  ------                                   --------------   ----- \n",
      " 0   rsid,\"chromosome\",\"position\",\"genotype\"  966977 non-null  object\n",
      "dtypes: object(1)\n",
      "memory usage: 7.4+ MB\n",
      "None\n",
      "       rsid,\"chromosome\",\"position\",\"genotype\"\n",
      "count                                   966977\n",
      "unique                                  966977\n",
      "top                   rs4477212,\"1\",72017,\"AA\"\n",
      "freq                                         1\n"
     ]
    }
   ],
   "source": [
    "# CarGa del dataSET\n",
    "data_path = '.\\genome.csv ' #ruta del modelo csv \n",
    "data = pd.read_csv(data_path, sep='\\t')\n",
    "\n",
    "# ostrar las primeras filas del dataset\n",
    "print(data.head())\n",
    "\n",
    "# Información sobre el dataset\n",
    "print(data.info())\n",
    "print(data.describe())\n"
   ]
  },
  {
   "cell_type": "code",
   "execution_count": null,
   "id": "b514f5d5-1e31-4bf5-a292-8ab59a112c45",
   "metadata": {},
   "outputs": [],
   "source": []
  }
 ],
 "metadata": {
  "kernelspec": {
   "display_name": "Python (venv)",
   "language": "python",
   "name": "venv"
  },
  "language_info": {
   "codemirror_mode": {
    "name": "ipython",
    "version": 3
   },
   "file_extension": ".py",
   "mimetype": "text/x-python",
   "name": "python",
   "nbconvert_exporter": "python",
   "pygments_lexer": "ipython3",
   "version": "3.11.9"
  }
 },
 "nbformat": 4,
 "nbformat_minor": 5
}
