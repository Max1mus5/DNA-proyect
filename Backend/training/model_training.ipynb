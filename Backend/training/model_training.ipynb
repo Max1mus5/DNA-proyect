{
 "cells": [
  {
   "cell_type": "code",
   "execution_count": 7,
   "id": "83aac18d-b2cf-42dd-8c8a-35a2656ec9f7",
   "metadata": {},
   "outputs": [],
   "source": [
    "import pandas as pd\n",
    "import numpy as np\n",
    "import matplotlib.pyplot as plt\n",
    "import seaborn as sns\n",
    "from sklearn.model_selection import train_test_split\n",
    "from sklearn.preprocessing import StandardScaler, OneHotEncoder\n",
    "from sklearn.impute import SimpleImputer\n",
    "from sklearn.compose import ColumnTransformer\n",
    "from sklearn.pipeline import Pipeline\n",
    "from tensorflow.keras.models import Sequential\n",
    "from tensorflow.keras.layers import Dense, Dropout\n",
    "from tensorflow.keras.optimizers import Adam"
   ]
  },
  {
   "cell_type": "markdown",
   "id": "530b10df",
   "metadata": {},
   "source": [
    "# Charge and Exploration of the Dataset"
   ]
  },
  {
   "cell_type": "code",
   "execution_count": null,
   "id": "4100070b",
   "metadata": {},
   "outputs": [],
   "source": [
    "def load_data(file_path):\n",
    "    \"\"\"\n",
    "    Carga los datos desde un archivo CSV y realiza una exploración inicial.\n",
    "    \n",
    "    Args:\n",
    "    file_path (str): Ruta al archivo CSV con los datos.\n",
    "    \n",
    "    Returns:\n",
    "    pd.DataFrame: DataFrame con los datos cargados.\n",
    "    \"\"\"\n",
    "    data = pd.read_csv(file_path)\n",
    "    print(\"Dimensiones del dataset:\", data.shape)\n",
    "    print(\"\\nPrimeras 5 filas del dataset:\")\n",
    "    print(data.head())\n",
    "    print(\"\\nInformación del dataset:\")\n",
    "    print(data.info())\n",
    "    print(\"\\nEstadísticas descriptivas:\")\n",
    "    print(data.describe())\n",
    "    return data"
   ]
  },
  {
   "cell_type": "markdown",
   "id": "8c2fd072",
   "metadata": {},
   "source": [
    "## Reading genome.csv"
   ]
  },
  {
   "cell_type": "code",
   "execution_count": null,
   "id": "d038a15c",
   "metadata": {},
   "outputs": [],
   "source": [
    "data = load_data('genetic_data.csv')"
   ]
  },
  {
   "cell_type": "markdown",
   "id": "f6d824a6",
   "metadata": {},
   "source": [
    "# Data Preprocesing\n",
    "## Cleaning the data"
   ]
  },
  {
   "cell_type": "code",
   "execution_count": null,
   "id": "86b908d1",
   "metadata": {},
   "outputs": [],
   "source": [
    "def clean_data(data):\n",
    "  \"\"\"\n",
    "    Limpia los datos manejando valores faltantes y verificando la distribución.\n",
    "    \n",
    "    Args:\n",
    "    data (pd.DataFrame): DataFrame original.\n",
    "    \n",
    "    Returns:\n",
    "    pd.DataFrame: DataFrame limpio.\n",
    "    \"\"\""
   ]
  }
 ],
 "metadata": {
  "kernelspec": {
   "display_name": "venv",
   "language": "python",
   "name": "python3"
  },
  "language_info": {
   "codemirror_mode": {
    "name": "ipython",
    "version": 3
   },
   "file_extension": ".py",
   "mimetype": "text/x-python",
   "name": "python",
   "nbconvert_exporter": "python",
   "pygments_lexer": "ipython3",
   "version": "3.11.9"
  }
 },
 "nbformat": 4,
 "nbformat_minor": 5
}
