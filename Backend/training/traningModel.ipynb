{
 "cells": [
  {
   "cell_type": "markdown",
   "metadata": {},
   "source": [
    "# Pendiente\n",
    "\n",
    "Implementación del modelo de predicción de enfermedades genómicas\n",
    "\n",
    "- Añadido pipeline completo de preprocesamiento de datos genómicos\n",
    "- Implementada red neuronal profunda para predicción de enfermedades\n",
    "- Incluidas funciones de evaluación y visualización\n",
    "- Añadida capacidad de guardar y cargar modelos entrenados\n",
    "- Documentación completa del código y proceso\n",
    "\n",
    "# Objetivos\n",
    "\n",
    "1. Implementar el modelo de predicción de enfermedades genómicas\n",
    "2. Entrenar y evaluar el modelo\n",
    "3. Guardar y cargar el modelo entrenado"
   ]
  },
  {
   "cell_type": "markdown",
   "metadata": {},
   "source": []
  },
  {
   "cell_type": "markdown",
   "metadata": {},
   "source": []
  }
 ],
 "metadata": {
  "language_info": {
   "name": "python"
  }
 },
 "nbformat": 4,
 "nbformat_minor": 2
}
