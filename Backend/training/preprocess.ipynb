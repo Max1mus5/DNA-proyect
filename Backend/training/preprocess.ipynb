{
 "cells": [
  {
   "cell_type": "code",
   "execution_count": 7,
   "id": "83aac18d-b2cf-42dd-8c8a-35a2656ec9f7",
   "metadata": {},
   "outputs": [],
   "source": [
    "import pandas as pd\n",
    "import chardet\n",
    "import numpy as np\n",
    "import matplotlib.pyplot as plt\n",
    "import seaborn as sns\n",
    "from sklearn.preprocessing import StandardScaler, OneHotEncoder\n",
    "from sklearn.impute import SimpleImputer\n",
    "from sklearn.compose import ColumnTransformer\n",
    "from sklearn.pipeline import Pipeline"
   ]
  },
  {
   "cell_type": "markdown",
   "id": "2a97cbe6",
   "metadata": {},
   "source": [
    "# Charge and Exploration of the Dataset"
   ]
  },
  {
   "cell_type": "code",
   "execution_count": 8,
   "id": "4100070b",
   "metadata": {},
   "outputs": [],
   "source": [
    "def load_data(file_path):\n",
    "    \"\"\"\n",
    "    Loads the data from a CSV file and performs an initial exploration.\n",
    "    \n",
    "    Args:\n",
    "    file_path (str): Path to the CSV file containing the data.\n",
    "    \n",
    "    Returns:\n",
    "    pd.DataFrame: DataFrame with the loaded data.\n",
    "    \"\"\"\n",
    "    # Detect file encoding\n",
    "    with open(file_path, 'rb') as file:\n",
    "        raw_data = file.read()\n",
    "        result = chardet.detect(raw_data)\n",
    "        encoding = result['encoding']\n",
    "\n",
    "    print(f\"Detected file encoding: {encoding}\")\n",
    "\n",
    "    try:\n",
    "        # Try to read the file with the detected encoding\n",
    "        data = pd.read_csv(file_path, encoding=encoding)\n",
    "    except UnicodeDecodeError:\n",
    "        print(\"Error with detected encoding. Trying 'latin-1' encoding...\")\n",
    "        try:\n",
    "            # If that fails, try 'latin-1' encoding\n",
    "            data = pd.read_csv(file_path, encoding='latin-1')\n",
    "        except Exception as e:\n",
    "            print(f\"Error loading the file: {e}\")\n",
    "            return None\n",
    "\n",
    "    print(\"Dataset dimensions:\", data.shape)\n",
    "    print(\"\\nFirst 5 rows of the dataset:\")\n",
    "    print(data.head())\n",
    "    print(\"\\nDataset information:\")\n",
    "    print(data.info())\n",
    "    print(\"\\nDescriptive statistics:\")\n",
    "    print(data.describe())\n",
    "    return data"
   ]
  },
  {
   "cell_type": "markdown",
   "id": "8c2fd072",
   "metadata": {},
   "source": [
    "## Reading genome.csv"
   ]
  },
  {
   "cell_type": "code",
   "execution_count": 12,
   "id": "d038a15c",
   "metadata": {},
   "outputs": [
    {
     "name": "stdout",
     "output_type": "stream",
     "text": [
      "Detected file encoding: ISO-8859-1\n"
     ]
    },
    {
     "name": "stderr",
     "output_type": "stream",
     "text": [
      "C:\\Users\\JERON\\AppData\\Local\\Temp\\ipykernel_15920\\564550034.py:21: DtypeWarning: Columns (1) have mixed types. Specify dtype option on import or set low_memory=False.\n",
      "  data = pd.read_csv(file_path, encoding=encoding)\n"
     ]
    },
    {
     "name": "stdout",
     "output_type": "stream",
     "text": [
      "Dataset dimensions: (966977, 7)\n",
      "\n",
      "First 5 rows of the dataset:\n",
      "         rsid chromosome  position genotype  magnitude reputation summary\n",
      "0   rs4477212          1     72017       AA        NaN        NaN     NaN\n",
      "1   rs3094315          1    742429       AA        NaN        NaN     NaN\n",
      "2   rs3131972          1    742584       GG        NaN        NaN     NaN\n",
      "3  rs12124819          1    766409       AA        NaN        NaN     NaN\n",
      "4  rs11240777          1    788822       AG        NaN        NaN     NaN\n",
      "\n",
      "Dataset information:\n",
      "<class 'pandas.core.frame.DataFrame'>\n",
      "RangeIndex: 966977 entries, 0 to 966976\n",
      "Data columns (total 7 columns):\n",
      " #   Column      Non-Null Count   Dtype  \n",
      "---  ------      --------------   -----  \n",
      " 0   rsid        966977 non-null  object \n",
      " 1   chromosome  966977 non-null  object \n",
      " 2   position    966977 non-null  int64  \n",
      " 3   genotype    966977 non-null  object \n",
      " 4   magnitude   1392 non-null    float64\n",
      " 5   reputation  934 non-null     object \n",
      " 6   summary     982 non-null     object \n",
      "dtypes: float64(1), int64(1), object(5)\n",
      "memory usage: 51.6+ MB\n",
      "None\n",
      "\n",
      "Descriptive statistics:\n",
      "           position    magnitude\n",
      "count  9.669770e+05  1392.000000\n",
      "mean   7.672147e+07     0.315912\n",
      "std    5.640974e+07     0.749215\n",
      "min    3.000000e+00     0.000000\n",
      "25%    3.012131e+07     0.000000\n",
      "50%    6.667251e+07     0.000000\n",
      "75%    1.134776e+08     0.000000\n",
      "max    2.471856e+08     5.900000\n"
     ]
    }
   ],
   "source": [
    "data = load_data('.\\csv\\genomeTrainDisease.csv')\n",
    "\n",
    "if data is not None:\n",
    "    # Continúa con el procesamiento de los datos\n",
    "    pass\n",
    "else:\n",
    "    print(\"No se pudieron cargar los datos. Por favor, verifica el archivo y su codificación.\")"
   ]
  },
  {
   "cell_type": "markdown",
   "id": "f6d824a6",
   "metadata": {},
   "source": [
    "# Data Preprocesing\n",
    "## Cleaning the data"
   ]
  },
  {
   "cell_type": "code",
   "execution_count": null,
   "id": "86b908d1",
   "metadata": {},
   "outputs": [],
   "source": [
    "def clean_data(data):\n",
    "  \"\"\"\n",
    "  Cleans the data by handling missing values and verifying the distribution.\n",
    "  \n",
    "  Args:\n",
    "  data (pd.DataFrame): Original DataFrame.\n",
    "  \n",
    "  Returns:\n",
    "  pd.DataFrame: Cleaned DataFrame.\n",
    "  \"\"\"\n",
    "\n",
    "  print (\"missing values for columns\")\n",
    "  print(data.isnull().sum())\n",
    "\n",
    "  # Handle missing values\n",
    "  imputer = SimpleImputer(strategy='most_frequent')#used to replace missing values with the most frequent value in the column\n",
    "  data_imputed = pd.DataFrame(imputer.fit_transform(data), columns=data.columns)# data_imputed is a new dataframe with the missing values replaced\n",
    "\n",
    "  print(\"\\nDistribution of genotypes:\")\n",
    "  print(data_imputed['genotype'].value_counts(normalize=True)) #will get the percentage of each genotype\n",
    "    \n",
    "  return data_imputed\n",
    "data_clean = clean_data(data)\n"
   ]
  },
  {
   "cell_type": "markdown",
   "id": "bf74d4ec",
   "metadata": {},
   "source": [
    "## Processing data"
   ]
  },
  {
   "cell_type": "code",
   "execution_count": null,
   "id": "31928bf1",
   "metadata": {},
   "outputs": [],
   "source": [
    "def preprocess_data(data):\n",
    "    \"\"\"\n",
    "    Realiza el preprocesamiento de los datos, incluyendo codificación one-hot y escalado.\n",
    "    \n",
    "    Args:\n",
    "    data (pd.DataFrame): DataFrame limpio.\n",
    "    \n",
    "    Returns:\n",
    "    tuple: X_processed (features procesadas), preprocessor (ColumnTransformer)\n",
    "    \"\"\"\n",
    "    print(\"Iniciando preprocesamiento...\")\n",
    "    print(\"Columnas en el DataFrame:\", data.columns)\n",
    "    print(\"Tipos de datos:\")\n",
    "    print(data.dtypes)\n",
    "    \n",
    "    # Crear preprocesador\n",
    "    numeric_features = ['chromosome', 'position']\n",
    "    categorical_features = ['genotype']\n",
    "    \n",
    "    print(\"Características numéricas:\", numeric_features)\n",
    "    print(\"Características categóricas:\", categorical_features)\n",
    "    \n",
    "    # Convertir 'chromosome' y 'position' a tipo numérico si no lo son\n",
    "    data['chromosome'] = pd.to_numeric(data['chromosome'], errors='coerce')\n",
    "    data['position'] = pd.to_numeric(data['position'], errors='coerce')\n",
    "    \n",
    "    numeric_transformer = Pipeline(steps=[\n",
    "        ('imputer', SimpleImputer(strategy='median')),\n",
    "        ('scaler', StandardScaler())\n",
    "    ])\n",
    "    \n",
    "    categorical_transformer = Pipeline(steps=[\n",
    "        ('imputer', SimpleImputer(strategy='constant', fill_value='missing')),\n",
    "        ('onehot', OneHotEncoder(drop='first', sparse_output=False))\n",
    "    ])\n",
    "    \n",
    "    preprocessor = ColumnTransformer(\n",
    "        transformers=[\n",
    "            ('num', numeric_transformer, numeric_features),\n",
    "            ('cat', categorical_transformer, categorical_features)\n",
    "        ])\n",
    "    \n",
    "    print(\"Aplicando preprocesamiento...\")\n",
    "    # Ajustar y transformar\n",
    "    try:\n",
    "        X_processed = preprocessor.fit_transform(data)\n",
    "        print(\"Preprocesamiento completado con éxito.\")\n",
    "    except Exception as e:\n",
    "        print(\"Error durante el preprocesamiento:\")\n",
    "        print(str(e))\n",
    "        raise\n",
    "    \n",
    "    print(\"Obteniendo nombres de características...\")\n",
    "    # Obtener nombres de características después del preprocesamiento\n",
    "    onehot_encoder = preprocessor.named_transformers_['cat'].named_steps['onehot']\n",
    "    feature_names = (numeric_features + \n",
    "                     onehot_encoder.get_feature_names_out(categorical_features).tolist())\n",
    "    \n",
    "    X_processed_df = pd.DataFrame(X_processed, columns=feature_names)\n",
    "    \n",
    "    print(\"Dimensiones de X después del preprocesamiento:\", X_processed_df.shape)\n",
    "    print(\"\\nPrimeras 5 filas de X preprocesado:\")\n",
    "    print(X_processed_df.head())\n",
    "    \n",
    "    return X_processed_df, preprocessor\n",
    "\n",
    "# Aplicar\n",
    "try:\n",
    "    X_processed, preprocessor = preprocess_data(data_clean)\n",
    "    print(\"Preprocesamiento completado exitosamente.\")\n",
    "except Exception as e:\n",
    "    print(\"Error al aplicar el preprocesamiento:\")\n",
    "    print(str(e))"
   ]
  },
  {
   "cell_type": "markdown",
   "id": "abab2b06",
   "metadata": {},
   "source": [
    "# Vizualice data cleaning"
   ]
  },
  {
   "cell_type": "code",
   "execution_count": null,
   "id": "0d5f439a",
   "metadata": {},
   "outputs": [],
   "source": [
    "def visualize_data(data):\n",
    "  \"\"\"\n",
    "  Creates visualizations to explore the data.\n",
    "  \n",
    "  Args:\n",
    "  data (pd.DataFrame): Original DataFrame.\n",
    "  \"\"\"\n",
    "  plt.figure(figsize=(10, 5))\n",
    "  sns.countplot(x='genotype', data=data)\n",
    "  plt.title('Distribution of Genotypes')\n",
    "  plt.show()\n",
    "  \n",
    "  plt.figure(figsize=(12, 6))\n",
    "  sns.scatterplot(data=data, x='position', y='chromosome', hue='genotype')\n",
    "  plt.title('Distribution of Genotypes by Position and Chromosome')\n",
    "  plt.show()\n",
    "\n",
    "  plt.figure(figsize=(12, 6))\n",
    "  sns.boxplot(x='chromosome', y='position', data=data)\n",
    "  plt.title('Distribution of Positions by Chromosome')\n",
    "  plt.xticks(rotation=90)\n",
    "  plt.show()\n",
    "\n",
    "visualize_data(data_clean)"
   ]
  },
  {
   "cell_type": "markdown",
   "id": "96581233",
   "metadata": {},
   "source": [
    "# Correlation Analisis of numeric features\n",
    "## Importance of Correlation Analysis\n",
    "\n",
    "El análisis de correlación es crucial en el preprocesamiento de datos y el análisis exploratorio de datos (AED). Ayuda a:\n",
    "\n",
    "1. **Identificar relaciones**: Comprender la relación entre las características numéricas puede ayudar a mejorar el rendimiento del modelo al resaltar qué características están correlacionadas positiva o negativamente.\n",
    "2. 2. **Selección de características**: Las características muy correlacionadas pueden proporcionar información redundante. La eliminación de tales características puede reducir la complejidad del modelo sin perder mucha información.\n",
    "3. **Detección de multicolinealidad**: En los modelos de regresión, la multicolinealidad (cuando dos o más predictores están altamente correlacionados) puede hacer que las estimaciones de los parámetros sean inestables e inflar los errores estándar. La detección temprana de la multicolinealidad permite realizar los ajustes oportunos.\n",
    "\n",
    "## Performing Correlation Analysis\n",
    "Para realizar un análisis de correlación entre características numéricas, siga estos pasos:\n",
    "\n",
    "1. **Seleccionar características numéricas**: En este caso, seleccionamos 'cromosoma' y 'posición' del conjunto de datos.\n",
    " 2. **Calcular la matriz de correlación**: Utilizar el método `corr()` proporcionado por pandas para calcular la matriz de correlaciones, que muestra los coeficientes de correlación entre pares de características.\n",
    "3. **Visualizar Correlación**: Se genera un mapa de calor utilizando la función `heatmap()` de seaborn. Esta representación visual ayuda a identificar rápidamente los patrones de correlación y la fuerza de las relaciones."
   ]
  },
  {
   "cell_type": "code",
   "execution_count": null,
   "id": "9ba41e62",
   "metadata": {},
   "outputs": [],
   "source": [
    "def analyze_correlation(data):\n",
    "  \"\"\"\n",
    "  Performs a correlation analysis among numeric features.\n",
    "  \n",
    "  Args:\n",
    "  data (pd.DataFrame): DataFrame with numeric features.\n",
    "  \"\"\"\n",
    "  numeric_data = data[['chromosome', 'position']]\n",
    "  corr_matrix = numeric_data.corr()\n",
    "  \n",
    "  plt.figure(figsize=(10, 8))\n",
    "  sns.heatmap(corr_matrix, annot=True, cmap='coolwarm', vmin=-1, vmax=1, center=0)\n",
    "  plt.title('Correlation Matrix of Numeric Features')\n",
    "  plt.show()\n",
    "\n",
    "analyze_correlation(data_clean)"
   ]
  },
  {
   "cell_type": "markdown",
   "id": "2f9bf0c9",
   "metadata": {},
   "source": [
    "- Paso 1**: Extrae datos numéricos de las columnas 'cromosoma' y 'posición'.\n",
    "- Paso 2**: Calcula la matriz de correlaciones utilizando el método `corr()` de pandas.\n",
    "- Paso 3**: Traza la matriz de correlación usando `heatmap()` de seaborn, donde:\n",
    "  - `annot=True` muestra los coeficientes de correlación.\n",
    "  - `cmap='coolwarm'` especifica el mapa de colores.\n",
    "  - vmin=-1` y `vmax=1` establecen el rango de la escala de color.\n",
    "  - `center=0` asegura que el mapa de color está centrado alrededor de cero.\n",
    "\n",
    "facilitamos de esta forma la interpretación de los resultados."
   ]
  },
  {
   "cell_type": "markdown",
   "id": "463ba661",
   "metadata": {},
   "source": [
    "# SNPs distribution by Chromosome"
   ]
  },
  {
   "cell_type": "code",
   "execution_count": null,
   "id": "609895a3",
   "metadata": {},
   "outputs": [],
   "source": [
    "\n",
    "def analyze_snp_distribution(data):\n",
    "    \"\"\"\n",
    "    Analyzes the distribution of SNPs across chromosomes.\n",
    "    Args:\n",
    "    data (pd.DataFrame): DataFrame origi\n",
    "    \"\"\"\n",
    "    snp_counts = data['chromosome'].value_counts().sort_index()\n",
    "    \n",
    "    plt.figure(figsize=(15, 6))\n",
    "    sns.barplot(x=snp_counts.index, y=snp_counts.values)\n",
    "    plt.title('Distribución de SNPs por Cromosoma')\n",
    "    plt.xlabel('Cromosoma')\n",
    "    plt.ylabel('Número de SNPs')\n",
    "    plt.xticks(rotation=0)\n",
    "    plt.show()\n",
    "\n",
    "analyze_snp_distribution(data_clean)"
   ]
  },
  {
   "cell_type": "markdown",
   "id": "3e142849",
   "metadata": {},
   "source": [
    "# Stadistic resume for chromosome"
   ]
  },
  {
   "cell_type": "code",
   "execution_count": null,
   "id": "f09b1882",
   "metadata": {},
   "outputs": [],
   "source": [
    "def summarize_by_chromosome(data):\n",
    "    \"\"\"\n",
    "    generates a summary of the dataset by chromosome\n",
    "    \n",
    "    Args:\n",
    "    data (pd.DataFrame): DataFrame original.\n",
    "    \n",
    "    Returns:\n",
    "    pd.DataFrame: summary of the dataset by chromosome\n",
    "    \"\"\"\n",
    "    summary = data.groupby('chromosome')['position'].agg(['min', 'max', 'mean', 'median', 'std']).reset_index()\n",
    "    summary.columns = ['Cromosoma', 'Posición Mínima', 'Posición Máxima', 'Posición Media', 'Posición Mediana', 'Desviación Estándar']\n",
    "    return summary\n",
    "\n",
    "chromosome_summary = summarize_by_chromosome(data_clean)\n",
    "print(chromosome_summary)"
   ]
  },
  {
   "cell_type": "markdown",
   "id": "0335807a",
   "metadata": {},
   "source": [
    "# Save Preprocessed Data"
   ]
  },
  {
   "cell_type": "code",
   "execution_count": null,
   "id": "2048c428",
   "metadata": {},
   "outputs": [],
   "source": [
    "def save_processed_data(data, file_path):\n",
    "  \"\"\"\n",
    "  Saves the preprocessed data to a CSV file.\n",
    "  \n",
    "  Args:\n",
    "  data (pd.DataFrame): DataFrame with preprocessed data.\n",
    "  file_path (str): Path where the CSV file will be saved.\n",
    "  \"\"\"\n",
    "  data.to_csv(file_path, index=False)\n",
    "  print(f\"Preprocessed data saved to {file_path}\")\n",
    "\n",
    "save_processed_data(X_processed, '.\\processed_genetic_data.csv')\n",
    "\n",
    "print(\"Exploratory analysis and preprocessing completed.\")"
   ]
  },
  {
   "cell_type": "markdown",
   "id": "23fb9e36",
   "metadata": {},
   "source": [
    "### ¿Qué representa este conjunto de datos final?\n",
    "\n",
    "1. **Cromosoma y Posición:**\n",
    "   - Cada fila del conjunto de datos representa una **sección específica del ADN** de una persona. \n",
    "   - El **cromosoma** indica en qué parte del genoma estamos observando. Hay 23 pares de cromosomas en los humanos, y estos datos están normalizados o \"escalados\" para facilitar el procesamiento en un modelo.\n",
    "   - La **posición** indica el lugar exacto dentro del cromosoma donde estamos observando una variación genética importante, también escalada.\n",
    "\n",
    "2. **Genotipos:**\n",
    "   - Cada persona hereda una combinación de ADN de sus padres, y cada sección de ADN puede contener diferentes combinaciones de \"letras\" (A, C, G, T, que son las bases del ADN).\n",
    "   - En este conjunto de datos, los **genotipos** (o combinaciones genéticas) están codificados de una manera que las computadoras pueden entender fácilmente, usando lo que se llama **one-hot encoding**. Básicamente, una columna para cada posible combinación de letras (AA, AG, CC, GT, etc.), y se marca un **1** si esa combinación está presente o un **0** si no lo está.\n",
    "   - También hay variaciones como deleciones (cuando falta una parte del ADN, marcado como **D**) o inserciones (cuando hay ADN adicional, marcado como **I**).\n",
    "\n",
    "3. **Ejemplo de cómo interpretar una fila:**\n",
    "   - **Cromosoma:** `-1.36` (escalado, pero indica un cromosoma específico, como el 7 por ejemplo).\n",
    "   - **Posición:** `-1.35` (indica una posición específica en ese cromosoma).\n",
    "   - **Genotipo_AA:** `1.0` (esto significa que en esta posición, la persona tiene la combinación de letras \"AA\").\n",
    "   - **Genotipo_AG, GT, CC, etc.:** `0.0` (esto significa que otras combinaciones de letras no están presentes en esta posición).\n",
    "\n",
    "### ¿Por qué es importante este formato?\n",
    "\n",
    "- **Escalado de Datos Numéricos:** Los valores de cromosoma y posición están escalados para que todas las variables numéricas tengan una escala similar, lo que ayuda a que el algoritmo de machine learning no favorezca una sobre otra.\n",
    "  \n",
    "- **Codificación One-Hot:** Al codificar los genotipos en múltiples columnas con valores de 0 y 1, el modelo puede procesar estas combinaciones genéticas de manera eficiente, aprendiendo cuáles son más importantes para predecir una enfermedad.\n",
    "\n",
    "- **Permitir Variantes Genéticas Complejas:** No solo consideramos combinaciones básicas (AA, AG, etc.), sino también variantes estructurales como inserciones y deleciones, que pueden tener un impacto significativo en el desarrollo de enfermedades.\n",
    "\n",
    "Este conjunto de datos es el punto de partida para que una red neuronal o un modelo de aprendizaje automático aprenda qué combinaciones genéticas están asociadas con una enfermedad específica."
   ]
  }
 ],
 "metadata": {
  "kernelspec": {
   "display_name": "venv",
   "language": "python",
   "name": "python3"
  },
  "language_info": {
   "codemirror_mode": {
    "name": "ipython",
    "version": 3
   },
   "file_extension": ".py",
   "mimetype": "text/x-python",
   "name": "python",
   "nbconvert_exporter": "python",
   "pygments_lexer": "ipython3",
   "version": "3.11.9"
  }
 },
 "nbformat": 4,
 "nbformat_minor": 5
}
